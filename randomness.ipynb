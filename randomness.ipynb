{
 "cells": [
  {
   "cell_type": "markdown",
   "metadata": {},
   "source": [
    "# Coincidence, probability and randomness\n",
    "\n",
    "By [Allison Parrish](http://www.decontextualize.com/)\n",
    "\n",
    "This is a [Jupyter Notebook](https://jupyter-notebook.readthedocs.io/en/stable/) with my notes on randomness, probability, and the sensation of \"coincidence.\" The notebook has written notes and Python code that you can execute. (You don't need to be able to read or write Python code to follow along with the notebook.)\n",
    "\n",
    "These notes are still a work in progress! I originally wrote these notes to go along with an in-class presentation, and they're not quite \"freestanding\" at this point."
   ]
  },
  {
   "cell_type": "markdown",
   "metadata": {},
   "source": [
    "## Randomness and coincidence in design\n",
    "\n",
    "From [Does your iPod play favorites?](https://www.newsweek.com/does-your-ipod-play-favorites-116739):\n",
    "\n",
    "![ipod shuffle](https://upload.wikimedia.org/wikipedia/commons/1/15/Ipod-shuffle-usb-connector.jpg)\n",
    "\n",
    "> Last spring it dawned on Apple CEO Steve Jobs that the heart of his hit iPod digital music player was the \"shuffle.\" [...] [Jobs] used the idea as the design principle of the new low-cost iPod Shuffle. Its ad slogan celebrates the serendipity music lovers embrace when their songs are reordered by chance--\"Life is random.\" [...] But just about everyone who has an iPod has wondered how random the iPod shuffle function really is. [...] More than a year ago, I outlined these concerns to Jobs; he dialed up **an engineer who insisted that shuffle played no favorites.** Since then, however, millions of new Podders have started shuffling, and the question has been discussed in newspapers, blogs and countless conversations. It's taking on Oliver Stone-like conspiracy buzz. [...] Apple execs profess amusement. \"It's part of the magic of shuffle,\" says Greg Joswiak, the VP for iPod products. Still, I asked him last week to double-check with the engineers. They flatly assured him that **\"Random is random,\"** and the algorithm that does the shuffling has been tested and reverified.\n",
    "\n",
    "Compare with e.g. [Divination: Shufflemancy](https://wolfofantimonyoccultism.com/2017/07/11/shufflemancy/):\n",
    "\n",
    "> Shufflemancy is a type of divination that works by receiving messages in the forms of songs in a playlist. In this form of divination the practitioner will ask a question, or for guidance, and then activate shuffle in a playlist of some type. This playlist will then begin to play a song and from the song the practitioner will get a message....\n",
    "\n",
    "From [Sid Meier and Rob Pardo on Probability and Player Psychology](https://www.shacknews.com/article/62807/sid-meier-and-rob-pardo):\n",
    "\n",
    "![Civilization Revolution](https://upload.wikimedia.org/wikipedia/en/3/32/Civilization_Revolution_Game_Cover.png)\n",
    "\n",
    "> When designing the combat system in Civilization: Revolution, Sid Meier found himself up against some interesting design problems. [...] In Civ Rev, the strength of units were displayed up front to players before battle to show the odds of victory. For example, an attacking unit might be rated at 1.5 with the defending unit at 0.5. This is a 3-to-1 situation. [...] [T]he testers **expected to win this battle every time despite there being a 25% chance of losing** each time. [...] When the player was presented with 3-to-1 or 4-to-1 odds, they expect to win. With 2-to-1 odds, the player will accept losing some of the time, but expect to win at 20-to-10, which is just a larger expression of 2-to-1. When the numbers get larger, the perceived advantage grows.\n",
    "\n",
    "> To adjust for this, Sid actually changed the math again so that the **outcomes of previous battles are taken into account.** He found that if a player lost too many 2-to-1 battles in a row, they would get frustrated. Instead of risking a player shutting the game down, Sid changed the math.\n",
    "\n",
    "![World of Warcraft](https://upload.wikimedia.org/wikipedia/en/9/91/WoW_Box_Art1.jpg)\n",
    "\n",
    "> [Blizzard Designer] Rob Pardo discussed ... the perception of bonuses versus punishments. [...] [P]layers would get into cold streaks where they went a long time without getting a quest item drop. **Instead of correctly attributing this to randomness, they would blame the math or random number generator.** To get around this, Rob and his team actually changed the code to increase the drop rate after each kill until it hits 100% and then reset it for the next one.\n",
    "\n",
    "> It's interesting that players don't want to accept math when it doesn't work out for them, but are more than happy to accept it when it rewards them. Purists might dislike Sid Meier changing the match to appease players, but the game became more fun. Blizzard opts to package systems as a reward over penalties and takes a little randomness out of the equation."
   ]
  },
  {
   "cell_type": "markdown",
   "metadata": {},
   "source": [
    "## Demonstrating principles of probability with Tarot\n",
    "\n",
    "Below, I use Tarot in order to demonstrate some elementary principles of probability—and use elementary principles of probability in order to talk about Tarot. I'm especially concerned with the idea of *coincidence* in Tarot. Often in my own Tarot practice, I see patterns emerge—certain cards that come up over and over, for example, or certain suits that seem to be overrepresented—and attribute meaning to those patterns. My hope is that in understanding the nature of how likely these patterns are, I can be better at assigning them meaning.\n",
    "\n",
    "> Terminology note: In the text below, I refer to a sequence of cards drawn from a Tarot deck as a \"spread.\" This is just a convenience—spreads are, of course, more complicated than that, and their meaning derives not just from the sequence of cards but also from their spatial relationships between each other, etc."
   ]
  },
  {
   "cell_type": "markdown",
   "metadata": {},
   "source": [
    "### Loading the data"
   ]
  },
  {
   "cell_type": "code",
   "execution_count": 1,
   "metadata": {},
   "outputs": [],
   "source": [
    "from tqdm.notebook import tqdm\n",
    "import json"
   ]
  },
  {
   "cell_type": "markdown",
   "metadata": {},
   "source": [
    "Here I'm loading in [a JSON file with names and interpretations for the 78 cards in a typical Tarot deck](https://github.com/dariusk/corpora/blob/master/data/divination/tarot_interpretations.json)."
   ]
  },
  {
   "cell_type": "code",
   "execution_count": 2,
   "metadata": {},
   "outputs": [],
   "source": [
    "cards_raw = json.load(open(\"tarot_interpretations.json\"))['tarot_interpretations']"
   ]
  },
  {
   "cell_type": "markdown",
   "metadata": {},
   "source": [
    "The code below makes a list of every card in the deck. Each item in the list is a dictionary that contains the name, rank, and suit of the card in question. If you're not familiar with Python programming, you can think of this as essentially a spreadsheet with 78 rows (one for each card) and three columns (name, rank, suit). Most of the code in the rest of the notebook is going to be selecting rows from this spreadsheet at random."
   ]
  },
  {
   "cell_type": "code",
   "execution_count": 3,
   "metadata": {},
   "outputs": [],
   "source": [
    "cards = [{k: item[k] for k in ['name', 'rank', 'suit']} for item in cards_raw]"
   ]
  },
  {
   "cell_type": "code",
   "execution_count": 4,
   "metadata": {
    "scrolled": true
   },
   "outputs": [
    {
     "data": {
      "text/plain": [
       "[{'name': 'The Fool', 'rank': 0, 'suit': 'major'},\n",
       " {'name': 'The Magician', 'rank': 1, 'suit': 'major'},\n",
       " {'name': 'The Papess/High Priestess', 'rank': 2, 'suit': 'major'},\n",
       " {'name': 'The Empress', 'rank': 3, 'suit': 'major'},\n",
       " {'name': 'The Emperor', 'rank': 4, 'suit': 'major'},\n",
       " {'name': 'The Pope/Hierophant', 'rank': 5, 'suit': 'major'},\n",
       " {'name': 'The Lovers', 'rank': 6, 'suit': 'major'},\n",
       " {'name': 'The Chariot', 'rank': 7, 'suit': 'major'},\n",
       " {'name': 'Strength', 'rank': 8, 'suit': 'major'},\n",
       " {'name': 'The Hermit', 'rank': 9, 'suit': 'major'},\n",
       " {'name': 'The Wheel', 'rank': 10, 'suit': 'major'},\n",
       " {'name': 'Justice', 'rank': 11, 'suit': 'major'},\n",
       " {'name': 'The Hanged Man', 'rank': 12, 'suit': 'major'},\n",
       " {'name': 'Death', 'rank': 13, 'suit': 'major'},\n",
       " {'name': 'Temperance', 'rank': 14, 'suit': 'major'},\n",
       " {'name': 'The Devil', 'rank': 15, 'suit': 'major'},\n",
       " {'name': 'The Tower', 'rank': 16, 'suit': 'major'},\n",
       " {'name': 'The Star', 'rank': 17, 'suit': 'major'},\n",
       " {'name': 'The Moon', 'rank': 18, 'suit': 'major'},\n",
       " {'name': 'The Sun', 'rank': 19, 'suit': 'major'},\n",
       " {'name': 'Judgement', 'rank': 20, 'suit': 'major'},\n",
       " {'name': 'The World', 'rank': 21, 'suit': 'major'},\n",
       " {'name': 'ace of wands', 'rank': 1, 'suit': 'wands'},\n",
       " {'name': 'two of wands', 'rank': 2, 'suit': 'wands'},\n",
       " {'name': 'three of wands', 'rank': 3, 'suit': 'wands'},\n",
       " {'name': 'four of wands', 'rank': 4, 'suit': 'wands'},\n",
       " {'name': 'five of wands', 'rank': 5, 'suit': 'wands'},\n",
       " {'name': 'six of wands', 'rank': 6, 'suit': 'wands'},\n",
       " {'name': 'seven of wands', 'rank': 7, 'suit': 'wands'},\n",
       " {'name': 'eight of wands', 'rank': 8, 'suit': 'wands'},\n",
       " {'name': 'nine of wands', 'rank': 9, 'suit': 'wands'},\n",
       " {'name': 'ten of wands', 'rank': 10, 'suit': 'wands'},\n",
       " {'name': 'page of wands', 'rank': 'page', 'suit': 'wands'},\n",
       " {'name': 'knight of wands', 'rank': 'knight', 'suit': 'wands'},\n",
       " {'name': 'queen of wands', 'rank': 'queen', 'suit': 'wands'},\n",
       " {'name': 'king of wands', 'rank': 'king', 'suit': 'wands'},\n",
       " {'name': 'ace of cups', 'rank': 1, 'suit': 'cups'},\n",
       " {'name': 'two of cups', 'rank': 2, 'suit': 'cups'},\n",
       " {'name': 'three of cups', 'rank': 3, 'suit': 'cups'},\n",
       " {'name': 'four of cups', 'rank': 4, 'suit': 'cups'},\n",
       " {'name': 'five of cups', 'rank': 5, 'suit': 'cups'},\n",
       " {'name': 'six of cups', 'rank': 6, 'suit': 'cups'},\n",
       " {'name': 'seven of cups', 'rank': 7, 'suit': 'cups'},\n",
       " {'name': 'eight of cups', 'rank': 8, 'suit': 'cups'},\n",
       " {'name': 'nine of cups', 'rank': 9, 'suit': 'cups'},\n",
       " {'name': 'ten of cups', 'rank': 10, 'suit': 'cups'},\n",
       " {'name': 'page of cups', 'rank': 'page', 'suit': 'cups'},\n",
       " {'name': 'knight of cups', 'rank': 'knight', 'suit': 'cups'},\n",
       " {'name': 'queen of cups', 'rank': 'queen', 'suit': 'cups'},\n",
       " {'name': 'king of cups', 'rank': 'king', 'suit': 'cups'},\n",
       " {'name': 'ace of swords', 'rank': 1, 'suit': 'swords'},\n",
       " {'name': 'two of swords', 'rank': 2, 'suit': 'swords'},\n",
       " {'name': 'three of swords', 'rank': 3, 'suit': 'swords'},\n",
       " {'name': 'four of swords', 'rank': 4, 'suit': 'swords'},\n",
       " {'name': 'five of swords', 'rank': 5, 'suit': 'swords'},\n",
       " {'name': 'six of swords', 'rank': 6, 'suit': 'swords'},\n",
       " {'name': 'seven of swords', 'rank': 7, 'suit': 'swords'},\n",
       " {'name': 'eight of swords', 'rank': 8, 'suit': 'swords'},\n",
       " {'name': 'nine of swords', 'rank': 9, 'suit': 'swords'},\n",
       " {'name': 'ten of swords', 'rank': 10, 'suit': 'swords'},\n",
       " {'name': 'page of swords', 'rank': 'page', 'suit': 'swords'},\n",
       " {'name': 'knight of swords', 'rank': 'knight', 'suit': 'swords'},\n",
       " {'name': 'queen of swords', 'rank': 'queen', 'suit': 'swords'},\n",
       " {'name': 'king of swords', 'rank': 'king', 'suit': 'swords'},\n",
       " {'name': 'ace of coins', 'rank': 1, 'suit': 'coins'},\n",
       " {'name': 'two of coins', 'rank': 2, 'suit': 'coins'},\n",
       " {'name': 'three of coins', 'rank': 3, 'suit': 'coins'},\n",
       " {'name': 'four of coins', 'rank': 4, 'suit': 'coins'},\n",
       " {'name': 'five of coins', 'rank': 5, 'suit': 'coins'},\n",
       " {'name': 'six of coins', 'rank': 6, 'suit': 'coins'},\n",
       " {'name': 'seven of coins', 'rank': 7, 'suit': 'coins'},\n",
       " {'name': 'eight of coins', 'rank': 8, 'suit': 'coins'},\n",
       " {'name': 'nine of coins', 'rank': 9, 'suit': 'coins'},\n",
       " {'name': 'ten of coins', 'rank': 10, 'suit': 'coins'},\n",
       " {'name': 'page of coins', 'rank': 'page', 'suit': 'coins'},\n",
       " {'name': 'knight of coins', 'rank': 'knight', 'suit': 'coins'},\n",
       " {'name': 'queen of coins', 'rank': 'queen', 'suit': 'coins'},\n",
       " {'name': 'king of coins', 'rank': 'king', 'suit': 'coins'}]"
      ]
     },
     "execution_count": 4,
     "metadata": {},
     "output_type": "execute_result"
    }
   ],
   "source": [
    "cards"
   ]
  },
  {
   "cell_type": "markdown",
   "metadata": {},
   "source": [
    "The `len()` method tells us how many cards are in the list:"
   ]
  },
  {
   "cell_type": "code",
   "execution_count": 5,
   "metadata": {},
   "outputs": [
    {
     "data": {
      "text/plain": [
       "78"
      ]
     },
     "execution_count": 5,
     "metadata": {},
     "output_type": "execute_result"
    }
   ],
   "source": [
    "len(cards)"
   ]
  },
  {
   "cell_type": "markdown",
   "metadata": {},
   "source": [
    "Seventy-eight, as you'd expect for a Tarot deck. We're going to use this number a lot, so I'm going to assign its value to a variable `n` that I can reuse below. Whenever you see `n` in the cells below, it's referring back to the number of cards in the deck."
   ]
  },
  {
   "cell_type": "code",
   "execution_count": 6,
   "metadata": {},
   "outputs": [],
   "source": [
    "n = len(cards)"
   ]
  },
  {
   "cell_type": "markdown",
   "metadata": {},
   "source": [
    "### Picking one card at random\n",
    "\n",
    "Python lets us pick things at random from a list in a few ways. All of them require the `random` module, which we can make available in the notebook like so:"
   ]
  },
  {
   "cell_type": "code",
   "execution_count": 7,
   "metadata": {},
   "outputs": [],
   "source": [
    "import random"
   ]
  },
  {
   "cell_type": "markdown",
   "metadata": {},
   "source": [
    "To pick one card, use `random.choice()`:"
   ]
  },
  {
   "cell_type": "code",
   "execution_count": 8,
   "metadata": {},
   "outputs": [
    {
     "data": {
      "text/plain": [
       "{'name': 'king of cups', 'rank': 'king', 'suit': 'cups'}"
      ]
     },
     "execution_count": 8,
     "metadata": {},
     "output_type": "execute_result"
    }
   ],
   "source": [
    "random.choice(cards)"
   ]
  },
  {
   "cell_type": "markdown",
   "metadata": {},
   "source": [
    "Think of a card in your mind. The probability that the card in a single-card spread will match the card you're thinking of is $\\frac{1}{n}$, where `n` is the number of cards in the deck. Here's how to calculate this in Python:"
   ]
  },
  {
   "cell_type": "code",
   "execution_count": 9,
   "metadata": {},
   "outputs": [
    {
     "data": {
      "text/plain": [
       "0.01282051282051282"
      ]
     },
     "execution_count": 9,
     "metadata": {},
     "output_type": "execute_result"
    }
   ],
   "source": [
    "1 / n"
   ]
  },
  {
   "cell_type": "markdown",
   "metadata": {},
   "source": [
    "In other words, there's a slightly better than 1% chance that the card you're thinking of will be on the top of the deck. (Assuming that the deck has been shuffled fairly, etc.)\n",
    "\n",
    "To make sure this math is right, I like to run \"simulations\" in Python. In a simulation, I'm going to perform the task whose probability I want to calculate over and over, then increment a counter whenever the event in question happens. After, I can divide the number of successful trials by the total number of trials in order to get the frequency of successes. The code below does this for our simple one-card spread:"
   ]
  },
  {
   "cell_type": "code",
   "execution_count": 10,
   "metadata": {
    "scrolled": true
   },
   "outputs": [
    {
     "data": {
      "application/vnd.jupyter.widget-view+json": {
       "model_id": "6d09a35e2099469f8f7904e251b53bdd",
       "version_major": 2,
       "version_minor": 0
      },
      "text/plain": [
       "HBox(children=(FloatProgress(value=0.0, max=100000.0), HTML(value='')))"
      ]
     },
     "metadata": {},
     "output_type": "display_data"
    },
    {
     "name": "stdout",
     "output_type": "stream",
     "text": [
      "\n",
      "0.01325\n"
     ]
    }
   ],
   "source": [
    "trials = 100000\n",
    "matches = 0\n",
    "\n",
    "# do the following 100k times...\n",
    "for i in tqdm(range(trials)):\n",
    "    # pick a card\n",
    "    drawn = random.choice(cards)\n",
    "    # increment matches if name matches the card we're\n",
    "    # looking for\n",
    "    if drawn['name'] == 'The Tower':\n",
    "        matches += 1\n",
    "\n",
    "print(matches / trials)"
   ]
  },
  {
   "cell_type": "markdown",
   "metadata": {},
   "source": [
    "When you run this cell, you should see a number that looks more or less similar to the number that we calculated above (~0.0128). As you increase the number of trials, the resulting frequency should theoretically converge on the calculated probability. Try \n",
    "\n",
    "> Python syntax notes: Comments begin with `#`. Code blocks are indicated not with curly braces (`{` and `}`) as in JavaScript, C, etc., but with indentation."
   ]
  },
  {
   "cell_type": "markdown",
   "metadata": {},
   "source": [
    "The chance of drawing a card that belongs to a particular category can be calculated in a similar way. If `c` is the number of cards in that category, the probability that a single card you draw will belong to that category is $\\frac{c}{n}$.\n",
    "\n",
    "To demonstrate, the code below makes a new list of cards that contains *only* the major arcana:"
   ]
  },
  {
   "cell_type": "code",
   "execution_count": 11,
   "metadata": {},
   "outputs": [],
   "source": [
    "major_arcana = [item for item in cards if item['suit'] == 'major']"
   ]
  },
  {
   "cell_type": "markdown",
   "metadata": {},
   "source": [
    "There are this many major arcana:"
   ]
  },
  {
   "cell_type": "code",
   "execution_count": 12,
   "metadata": {},
   "outputs": [
    {
     "data": {
      "text/plain": [
       "22"
      ]
     },
     "execution_count": 12,
     "metadata": {},
     "output_type": "execute_result"
    }
   ],
   "source": [
    "len(major_arcana)"
   ]
  },
  {
   "cell_type": "markdown",
   "metadata": {},
   "source": [
    "A value I'll assign to the variable `n_major`:"
   ]
  },
  {
   "cell_type": "code",
   "execution_count": 13,
   "metadata": {},
   "outputs": [],
   "source": [
    "n_major = len(major_arcana)"
   ]
  },
  {
   "cell_type": "markdown",
   "metadata": {},
   "source": [
    "Performing the calculation below, we can see that any given one-card draw will consist of a major arcana about 28% of the time:"
   ]
  },
  {
   "cell_type": "code",
   "execution_count": 14,
   "metadata": {},
   "outputs": [
    {
     "data": {
      "text/plain": [
       "0.28205128205128205"
      ]
     },
     "execution_count": 14,
     "metadata": {},
     "output_type": "execute_result"
    }
   ],
   "source": [
    "n_major / n"
   ]
  },
  {
   "cell_type": "markdown",
   "metadata": {},
   "source": [
    "### Picking multiple cards\n",
    "\n",
    "Python has a function `random.sample()` that lets us pick items at random from a list *without replacement*. \"Without replacement\" here means that once an item has been picked, it won't be picked subsequently in the same sampling process, so we won't see any duplicate cards. This is a good way of simulating a simple Tarot spread:"
   ]
  },
  {
   "cell_type": "code",
   "execution_count": 15,
   "metadata": {},
   "outputs": [
    {
     "data": {
      "text/plain": [
       "[{'name': 'queen of coins', 'rank': 'queen', 'suit': 'coins'},\n",
       " {'name': 'ace of wands', 'rank': 1, 'suit': 'wands'},\n",
       " {'name': 'four of wands', 'rank': 4, 'suit': 'wands'}]"
      ]
     },
     "execution_count": 15,
     "metadata": {},
     "output_type": "execute_result"
    }
   ],
   "source": [
    "random.sample(cards, 3)"
   ]
  },
  {
   "cell_type": "markdown",
   "metadata": {},
   "source": [
    "(Change the number after the comma to pick a different number of cards.)\n",
    "\n",
    "Now think of *two* Tarot cards. The chance that a two-card spread is calculated as the chance of drawing one of the cards from the full deck (i.e., $\\frac{1}{n}$), multiplied by the chance of drawing the other card from a deck that is missing one card (because, in this scenario, the first card is no longer in the deck)—i.e., $\\frac{1}{n-1}$. Multiplying across gives us $\\frac{1}{n(n-1)}$, which can be expressed in Python like so:"
   ]
  },
  {
   "cell_type": "markdown",
   "metadata": {},
   "source": [
    "... can be written like so in Python:"
   ]
  },
  {
   "cell_type": "code",
   "execution_count": 16,
   "metadata": {},
   "outputs": [
    {
     "data": {
      "text/plain": [
       "0.0001665001665001665"
      ]
     },
     "execution_count": 16,
     "metadata": {},
     "output_type": "execute_result"
    }
   ],
   "source": [
    "1 / (n * (n - 1))"
   ]
  },
  {
   "cell_type": "markdown",
   "metadata": {},
   "source": [
    "This tells us that the cards in a two-card draw will match the cards you're thinking of significantly fewer than one in a thousand times. The following cell simulates this scenario, finding how many two-card spreads are The Star followed by the Hierophant:"
   ]
  },
  {
   "cell_type": "code",
   "execution_count": 17,
   "metadata": {},
   "outputs": [
    {
     "data": {
      "application/vnd.jupyter.widget-view+json": {
       "model_id": "bfe608ec225c4b029b7d84b7cc72ddfb",
       "version_major": 2,
       "version_minor": 0
      },
      "text/plain": [
       "HBox(children=(FloatProgress(value=0.0, max=100000.0), HTML(value='')))"
      ]
     },
     "metadata": {},
     "output_type": "display_data"
    },
    {
     "name": "stdout",
     "output_type": "stream",
     "text": [
      "\n",
      "0.00014\n"
     ]
    }
   ],
   "source": [
    "trials = 100000\n",
    "target = ['The Star', 'The Pope/Hierophant']\n",
    "matches = 0\n",
    "for i in tqdm(range(trials)):\n",
    "    if [item['name'] for item in random.sample(cards, 2)] == target:\n",
    "        matches += 1\n",
    "print(matches/trials)"
   ]
  },
  {
   "cell_type": "markdown",
   "metadata": {},
   "source": [
    "For three cards, the formula would be $\\frac{1}{n(n-1)(n-2)}$; for four, $\\frac{1}{n(n-1)(n-2)(n-3)}$, and so forth. There's a more general formulation for arbitrary numbers of cards in the spread below."
   ]
  },
  {
   "cell_type": "markdown",
   "metadata": {},
   "source": [
    "### Permutations\n",
    "\n",
    "A Tarot spread is an example a *permutation without repetition*, meaning a set of items drawn at random from a discrete set, where the order in which the items are drawn is important. Python comes with a function called `permutations` that shows all of possible permutations for a given list of things."
   ]
  },
  {
   "cell_type": "code",
   "execution_count": 18,
   "metadata": {},
   "outputs": [],
   "source": [
    "from itertools import permutations"
   ]
  },
  {
   "cell_type": "markdown",
   "metadata": {},
   "source": [
    "To make this demonstration a bit cleaner, I'm going to make a list of all of the card names:"
   ]
  },
  {
   "cell_type": "code",
   "execution_count": 19,
   "metadata": {},
   "outputs": [],
   "source": [
    "card_names = [item['name'] for item in cards]"
   ]
  },
  {
   "cell_type": "markdown",
   "metadata": {},
   "source": [
    "There is exactly one permutation of zero cards (i.e., no cards at all):"
   ]
  },
  {
   "cell_type": "code",
   "execution_count": 20,
   "metadata": {},
   "outputs": [
    {
     "data": {
      "text/plain": [
       "[()]"
      ]
     },
     "execution_count": 20,
     "metadata": {},
     "output_type": "execute_result"
    }
   ],
   "source": [
    "list(permutations(card_names, 0))"
   ]
  },
  {
   "cell_type": "markdown",
   "metadata": {},
   "source": [
    "And there are *n* permutations of one card (i.e., every card is its own single-card spread):"
   ]
  },
  {
   "cell_type": "code",
   "execution_count": 21,
   "metadata": {},
   "outputs": [
    {
     "name": "stdout",
     "output_type": "stream",
     "text": [
      "[('The Fool',), ('The Magician',), ('The Papess/High Priestess',), ('The Empress',), ('The Emperor',), ('The Pope/Hierophant',), ('The Lovers',), ('The Chariot',), ('Strength',), ('The Hermit',), ('The Wheel',), ('Justice',), ('The Hanged Man',), ('Death',), ('Temperance',), ('The Devil',), ('The Tower',), ('The Star',), ('The Moon',), ('The Sun',), ('Judgement',), ('The World',), ('ace of wands',), ('two of wands',), ('three of wands',), ('four of wands',), ('five of wands',), ('six of wands',), ('seven of wands',), ('eight of wands',), ('nine of wands',), ('ten of wands',), ('page of wands',), ('knight of wands',), ('queen of wands',), ('king of wands',), ('ace of cups',), ('two of cups',), ('three of cups',), ('four of cups',), ('five of cups',), ('six of cups',), ('seven of cups',), ('eight of cups',), ('nine of cups',), ('ten of cups',), ('page of cups',), ('knight of cups',), ('queen of cups',), ('king of cups',), ('ace of swords',), ('two of swords',), ('three of swords',), ('four of swords',), ('five of swords',), ('six of swords',), ('seven of swords',), ('eight of swords',), ('nine of swords',), ('ten of swords',), ('page of swords',), ('knight of swords',), ('queen of swords',), ('king of swords',), ('ace of coins',), ('two of coins',), ('three of coins',), ('four of coins',), ('five of coins',), ('six of coins',), ('seven of coins',), ('eight of coins',), ('nine of coins',), ('ten of coins',), ('page of coins',), ('knight of coins',), ('queen of coins',), ('king of coins',)]\n"
     ]
    }
   ],
   "source": [
    "print(list(permutations(card_names, 1)))"
   ]
  },
  {
   "cell_type": "markdown",
   "metadata": {},
   "source": [
    "But there are 6006 permutations of *two* cards, of which I show just the first 100 below:"
   ]
  },
  {
   "cell_type": "code",
   "execution_count": 22,
   "metadata": {},
   "outputs": [
    {
     "name": "stdout",
     "output_type": "stream",
     "text": [
      "[('The Fool', 'The Magician'), ('The Fool', 'The Papess/High Priestess'), ('The Fool', 'The Empress'), ('The Fool', 'The Emperor'), ('The Fool', 'The Pope/Hierophant'), ('The Fool', 'The Lovers'), ('The Fool', 'The Chariot'), ('The Fool', 'Strength'), ('The Fool', 'The Hermit'), ('The Fool', 'The Wheel'), ('The Fool', 'Justice'), ('The Fool', 'The Hanged Man'), ('The Fool', 'Death'), ('The Fool', 'Temperance'), ('The Fool', 'The Devil'), ('The Fool', 'The Tower'), ('The Fool', 'The Star'), ('The Fool', 'The Moon'), ('The Fool', 'The Sun'), ('The Fool', 'Judgement'), ('The Fool', 'The World'), ('The Fool', 'ace of wands'), ('The Fool', 'two of wands'), ('The Fool', 'three of wands'), ('The Fool', 'four of wands'), ('The Fool', 'five of wands'), ('The Fool', 'six of wands'), ('The Fool', 'seven of wands'), ('The Fool', 'eight of wands'), ('The Fool', 'nine of wands'), ('The Fool', 'ten of wands'), ('The Fool', 'page of wands'), ('The Fool', 'knight of wands'), ('The Fool', 'queen of wands'), ('The Fool', 'king of wands'), ('The Fool', 'ace of cups'), ('The Fool', 'two of cups'), ('The Fool', 'three of cups'), ('The Fool', 'four of cups'), ('The Fool', 'five of cups'), ('The Fool', 'six of cups'), ('The Fool', 'seven of cups'), ('The Fool', 'eight of cups'), ('The Fool', 'nine of cups'), ('The Fool', 'ten of cups'), ('The Fool', 'page of cups'), ('The Fool', 'knight of cups'), ('The Fool', 'queen of cups'), ('The Fool', 'king of cups'), ('The Fool', 'ace of swords'), ('The Fool', 'two of swords'), ('The Fool', 'three of swords'), ('The Fool', 'four of swords'), ('The Fool', 'five of swords'), ('The Fool', 'six of swords'), ('The Fool', 'seven of swords'), ('The Fool', 'eight of swords'), ('The Fool', 'nine of swords'), ('The Fool', 'ten of swords'), ('The Fool', 'page of swords'), ('The Fool', 'knight of swords'), ('The Fool', 'queen of swords'), ('The Fool', 'king of swords'), ('The Fool', 'ace of coins'), ('The Fool', 'two of coins'), ('The Fool', 'three of coins'), ('The Fool', 'four of coins'), ('The Fool', 'five of coins'), ('The Fool', 'six of coins'), ('The Fool', 'seven of coins'), ('The Fool', 'eight of coins'), ('The Fool', 'nine of coins'), ('The Fool', 'ten of coins'), ('The Fool', 'page of coins'), ('The Fool', 'knight of coins'), ('The Fool', 'queen of coins'), ('The Fool', 'king of coins'), ('The Magician', 'The Fool'), ('The Magician', 'The Papess/High Priestess'), ('The Magician', 'The Empress'), ('The Magician', 'The Emperor'), ('The Magician', 'The Pope/Hierophant'), ('The Magician', 'The Lovers'), ('The Magician', 'The Chariot'), ('The Magician', 'Strength'), ('The Magician', 'The Hermit'), ('The Magician', 'The Wheel'), ('The Magician', 'Justice'), ('The Magician', 'The Hanged Man'), ('The Magician', 'Death'), ('The Magician', 'Temperance'), ('The Magician', 'The Devil'), ('The Magician', 'The Tower'), ('The Magician', 'The Star'), ('The Magician', 'The Moon'), ('The Magician', 'The Sun'), ('The Magician', 'Judgement'), ('The Magician', 'The World'), ('The Magician', 'ace of wands'), ('The Magician', 'two of wands')]\n"
     ]
    }
   ],
   "source": [
    "print(list(permutations(card_names, 2))[:100])"
   ]
  },
  {
   "cell_type": "markdown",
   "metadata": {},
   "source": [
    "The number 6006 results from multiplying our `n` by `n - 1`:"
   ]
  },
  {
   "cell_type": "code",
   "execution_count": 23,
   "metadata": {},
   "outputs": [
    {
     "data": {
      "text/plain": [
       "6006"
      ]
     },
     "execution_count": 23,
     "metadata": {},
     "output_type": "execute_result"
    }
   ],
   "source": [
    "n * (n - 1)"
   ]
  },
  {
   "cell_type": "markdown",
   "metadata": {},
   "source": [
    "Here's a chunk of the permutations of three cards:"
   ]
  },
  {
   "cell_type": "code",
   "execution_count": 24,
   "metadata": {},
   "outputs": [
    {
     "name": "stdout",
     "output_type": "stream",
     "text": [
      "[('The Fool', 'The Magician', 'The Papess/High Priestess'), ('The Fool', 'The Magician', 'The Empress'), ('The Fool', 'The Magician', 'The Emperor'), ('The Fool', 'The Magician', 'The Pope/Hierophant'), ('The Fool', 'The Magician', 'The Lovers'), ('The Fool', 'The Magician', 'The Chariot'), ('The Fool', 'The Magician', 'Strength'), ('The Fool', 'The Magician', 'The Hermit'), ('The Fool', 'The Magician', 'The Wheel'), ('The Fool', 'The Magician', 'Justice'), ('The Fool', 'The Magician', 'The Hanged Man'), ('The Fool', 'The Magician', 'Death'), ('The Fool', 'The Magician', 'Temperance'), ('The Fool', 'The Magician', 'The Devil'), ('The Fool', 'The Magician', 'The Tower'), ('The Fool', 'The Magician', 'The Star'), ('The Fool', 'The Magician', 'The Moon'), ('The Fool', 'The Magician', 'The Sun'), ('The Fool', 'The Magician', 'Judgement'), ('The Fool', 'The Magician', 'The World'), ('The Fool', 'The Magician', 'ace of wands'), ('The Fool', 'The Magician', 'two of wands'), ('The Fool', 'The Magician', 'three of wands'), ('The Fool', 'The Magician', 'four of wands'), ('The Fool', 'The Magician', 'five of wands'), ('The Fool', 'The Magician', 'six of wands'), ('The Fool', 'The Magician', 'seven of wands'), ('The Fool', 'The Magician', 'eight of wands'), ('The Fool', 'The Magician', 'nine of wands'), ('The Fool', 'The Magician', 'ten of wands'), ('The Fool', 'The Magician', 'page of wands'), ('The Fool', 'The Magician', 'knight of wands'), ('The Fool', 'The Magician', 'queen of wands'), ('The Fool', 'The Magician', 'king of wands'), ('The Fool', 'The Magician', 'ace of cups'), ('The Fool', 'The Magician', 'two of cups'), ('The Fool', 'The Magician', 'three of cups'), ('The Fool', 'The Magician', 'four of cups'), ('The Fool', 'The Magician', 'five of cups'), ('The Fool', 'The Magician', 'six of cups'), ('The Fool', 'The Magician', 'seven of cups'), ('The Fool', 'The Magician', 'eight of cups'), ('The Fool', 'The Magician', 'nine of cups'), ('The Fool', 'The Magician', 'ten of cups'), ('The Fool', 'The Magician', 'page of cups'), ('The Fool', 'The Magician', 'knight of cups'), ('The Fool', 'The Magician', 'queen of cups'), ('The Fool', 'The Magician', 'king of cups'), ('The Fool', 'The Magician', 'ace of swords'), ('The Fool', 'The Magician', 'two of swords'), ('The Fool', 'The Magician', 'three of swords'), ('The Fool', 'The Magician', 'four of swords'), ('The Fool', 'The Magician', 'five of swords'), ('The Fool', 'The Magician', 'six of swords'), ('The Fool', 'The Magician', 'seven of swords'), ('The Fool', 'The Magician', 'eight of swords'), ('The Fool', 'The Magician', 'nine of swords'), ('The Fool', 'The Magician', 'ten of swords'), ('The Fool', 'The Magician', 'page of swords'), ('The Fool', 'The Magician', 'knight of swords'), ('The Fool', 'The Magician', 'queen of swords'), ('The Fool', 'The Magician', 'king of swords'), ('The Fool', 'The Magician', 'ace of coins'), ('The Fool', 'The Magician', 'two of coins'), ('The Fool', 'The Magician', 'three of coins'), ('The Fool', 'The Magician', 'four of coins'), ('The Fool', 'The Magician', 'five of coins'), ('The Fool', 'The Magician', 'six of coins'), ('The Fool', 'The Magician', 'seven of coins'), ('The Fool', 'The Magician', 'eight of coins'), ('The Fool', 'The Magician', 'nine of coins'), ('The Fool', 'The Magician', 'ten of coins'), ('The Fool', 'The Magician', 'page of coins'), ('The Fool', 'The Magician', 'knight of coins'), ('The Fool', 'The Magician', 'queen of coins'), ('The Fool', 'The Magician', 'king of coins'), ('The Fool', 'The Papess/High Priestess', 'The Magician'), ('The Fool', 'The Papess/High Priestess', 'The Empress'), ('The Fool', 'The Papess/High Priestess', 'The Emperor'), ('The Fool', 'The Papess/High Priestess', 'The Pope/Hierophant'), ('The Fool', 'The Papess/High Priestess', 'The Lovers'), ('The Fool', 'The Papess/High Priestess', 'The Chariot'), ('The Fool', 'The Papess/High Priestess', 'Strength'), ('The Fool', 'The Papess/High Priestess', 'The Hermit'), ('The Fool', 'The Papess/High Priestess', 'The Wheel'), ('The Fool', 'The Papess/High Priestess', 'Justice'), ('The Fool', 'The Papess/High Priestess', 'The Hanged Man'), ('The Fool', 'The Papess/High Priestess', 'Death'), ('The Fool', 'The Papess/High Priestess', 'Temperance'), ('The Fool', 'The Papess/High Priestess', 'The Devil'), ('The Fool', 'The Papess/High Priestess', 'The Tower'), ('The Fool', 'The Papess/High Priestess', 'The Star'), ('The Fool', 'The Papess/High Priestess', 'The Moon'), ('The Fool', 'The Papess/High Priestess', 'The Sun'), ('The Fool', 'The Papess/High Priestess', 'Judgement'), ('The Fool', 'The Papess/High Priestess', 'The World'), ('The Fool', 'The Papess/High Priestess', 'ace of wands'), ('The Fool', 'The Papess/High Priestess', 'two of wands'), ('The Fool', 'The Papess/High Priestess', 'three of wands'), ('The Fool', 'The Papess/High Priestess', 'four of wands')]\n"
     ]
    }
   ],
   "source": [
    "print(list(permutations(card_names, 3))[:100])"
   ]
  },
  {
   "cell_type": "markdown",
   "metadata": {},
   "source": [
    "Using the `permutations` function, we can find the total number of permutations for spreads of any size:"
   ]
  },
  {
   "cell_type": "code",
   "execution_count": 25,
   "metadata": {},
   "outputs": [
    {
     "name": "stdout",
     "output_type": "stream",
     "text": [
      "0 cards -> 1 permutations\n",
      "1 cards -> 78 permutations\n",
      "2 cards -> 6006 permutations\n",
      "3 cards -> 456456 permutations\n"
     ]
    }
   ],
   "source": [
    "for i in range(4):\n",
    "    print(i, \"cards ->\", len(list(permutations(cards, i))), \"permutations\")"
   ]
  },
  {
   "cell_type": "markdown",
   "metadata": {},
   "source": [
    "Actually \"any\" size isn't right! The `permutations()` function gives an exhaustive list of all possible permutations, and with 78 cards in the deck, the number of permutations in a spread of five cards is so large that it hangs the CPU on my computer just to generate it. If we're just interested in the number of permutations, we don't have to list them. Instead, we can calculate them with the following formula:"
   ]
  },
  {
   "cell_type": "markdown",
   "metadata": {},
   "source": [
    "$$\\frac{n!}{(n-k)!}$$"
   ]
  },
  {
   "cell_type": "markdown",
   "metadata": {},
   "source": [
    "The `!` is the *factorial* operator, which evaluates to `n` multiplied by every integer smaller than it down to one (i.e., 4! = 4 × 3 × 2 × 1 = 24). The following code implements a function `npr()` that takes the number of items in the deck and the number to sample at once, and returns the total possible number of permutations:"
   ]
  },
  {
   "cell_type": "code",
   "execution_count": 26,
   "metadata": {},
   "outputs": [],
   "source": [
    "from math import factorial\n",
    "def npr(n, r):\n",
    "    return factorial(n) // factorial(n-r)"
   ]
  },
  {
   "cell_type": "markdown",
   "metadata": {},
   "source": [
    "Using this, we can see that the number of possible permutations of a Tarot deck increases dramatically as you draw more and more cards:"
   ]
  },
  {
   "cell_type": "code",
   "execution_count": 27,
   "metadata": {},
   "outputs": [
    {
     "name": "stdout",
     "output_type": "stream",
     "text": [
      "0 cards -> 1 permutations\n",
      "1 cards -> 78 permutations\n",
      "2 cards -> 6006 permutations\n",
      "3 cards -> 456456 permutations\n",
      "4 cards -> 34234200 permutations\n",
      "5 cards -> 2533330800 permutations\n",
      "6 cards -> 184933148400 permutations\n",
      "7 cards -> 13315186684800 permutations\n",
      "8 cards -> 945378254620800 permutations\n",
      "9 cards -> 66176477823456000 permutations\n"
     ]
    }
   ],
   "source": [
    "for i in range(10):\n",
    "    print(i, \"cards ->\", npr(n, i), \"permutations\")"
   ]
  },
  {
   "cell_type": "markdown",
   "metadata": {},
   "source": [
    "One divided by the number of permutations gives us the probability of any one particular spread. For example the probability of any one particular three-card spread:"
   ]
  },
  {
   "cell_type": "code",
   "execution_count": 28,
   "metadata": {
    "scrolled": true
   },
   "outputs": [
    {
     "data": {
      "text/plain": [
       "2.190791664475875e-06"
      ]
     },
     "execution_count": 28,
     "metadata": {},
     "output_type": "execute_result"
    }
   ],
   "source": [
    "1 / npr(n, 3)"
   ]
  },
  {
   "cell_type": "markdown",
   "metadata": {},
   "source": [
    "Or without scientific notation:"
   ]
  },
  {
   "cell_type": "code",
   "execution_count": 29,
   "metadata": {},
   "outputs": [
    {
     "name": "stdout",
     "output_type": "stream",
     "text": [
      "0.0000021908\n"
     ]
    }
   ],
   "source": [
    "print(f'{1/npr(n,3):.10f}')"
   ]
  },
  {
   "cell_type": "markdown",
   "metadata": {},
   "source": [
    "This is a really surprising result to me! Three-card spreads to me have such an even texture that it *feels* like they tell me the same thing over and over. But it's unlikely you'll see the exact same three-card spread twice, even if you did half a million of them."
   ]
  },
  {
   "cell_type": "markdown",
   "metadata": {},
   "source": [
    "Here's an empirical trial of the formula above. This will take a while, since we have to run several million simulations if we want to have a chance of finding a matching spread:"
   ]
  },
  {
   "cell_type": "code",
   "execution_count": 32,
   "metadata": {},
   "outputs": [
    {
     "data": {
      "application/vnd.jupyter.widget-view+json": {
       "model_id": "1b6d297a563942769b6960ce176e927f",
       "version_major": 2,
       "version_minor": 0
      },
      "text/plain": [
       "HBox(children=(FloatProgress(value=0.0, max=2000000.0), HTML(value='')))"
      ]
     },
     "metadata": {},
     "output_type": "display_data"
    },
    {
     "name": "stdout",
     "output_type": "stream",
     "text": [
      "\n",
      "1 match(es); 5e-07 frequency\n"
     ]
    }
   ],
   "source": [
    "trials = 2000000\n",
    "target = ['The Star', 'Temperance', 'The Devil']\n",
    "matches = 0\n",
    "for i in tqdm(range(trials)):\n",
    "    if [c['name'] for c in random.sample(cards, 3)] == target:\n",
    "        matches += 1\n",
    "print(matches, \"match(es);\", matches/trials, \"frequency\")"
   ]
  },
  {
   "cell_type": "markdown",
   "metadata": {},
   "source": [
    "There are this many ten-card spreads:"
   ]
  },
  {
   "cell_type": "code",
   "execution_count": 33,
   "metadata": {},
   "outputs": [
    {
     "data": {
      "text/plain": [
       "4566176969818464000"
      ]
     },
     "execution_count": 33,
     "metadata": {},
     "output_type": "execute_result"
    }
   ],
   "source": [
    "npr(n, 10)"
   ]
  },
  {
   "cell_type": "markdown",
   "metadata": {},
   "source": [
    "That's 4.5 quintillion! In other words, there is *this* probability of drawing any particular sequence of ten Tarot cards:"
   ]
  },
  {
   "cell_type": "code",
   "execution_count": 34,
   "metadata": {},
   "outputs": [
    {
     "name": "stdout",
     "output_type": "stream",
     "text": [
      "0.0000000000000000002190016\n"
     ]
    }
   ],
   "source": [
    "print(f'{1/npr(n,10):.25f}')"
   ]
  },
  {
   "cell_type": "markdown",
   "metadata": {},
   "source": [
    "Meaning that any ten card spread is almost certainly unique."
   ]
  },
  {
   "cell_type": "markdown",
   "metadata": {},
   "source": [
    "### Combinations\n",
    "\n",
    "There are some patterns in Tarot spreads that aren't about the order of the cards. We might, for example, observe that there are an unusual number of cards of a particular suit in a spread, or that major arcana have been showing up with unusual frequency in daily readings over the course of a week. But how do we know if these frequencies are actually unusual?\n",
    "\n",
    "Let's start with the following question: How likely is it that *every card* in a three-card spread belongs to the suit of cups? The probability that a single card belongs to cups is the number of cards in the suit of cups divided by the number of cards total ($\\frac{14}{78}$):"
   ]
  },
  {
   "cell_type": "code",
   "execution_count": 35,
   "metadata": {},
   "outputs": [
    {
     "data": {
      "text/plain": [
       "0.1794871794871795"
      ]
     },
     "execution_count": 35,
     "metadata": {},
     "output_type": "execute_result"
    }
   ],
   "source": [
    "14 / n"
   ]
  },
  {
   "cell_type": "markdown",
   "metadata": {},
   "source": [
    "(Meaning that about 18% of cards you draw will be cups.)\n",
    "\n",
    "The probability of drawing *two* cards that are cups is $\\frac{14}{78} \\times \\frac{13}{77}$ (because after having drawn the first card, there are only 13 cups and 77 cards left in the deck):"
   ]
  },
  {
   "cell_type": "code",
   "execution_count": 36,
   "metadata": {},
   "outputs": [
    {
     "data": {
      "text/plain": [
       "0.030303030303030304"
      ]
     },
     "execution_count": 36,
     "metadata": {},
     "output_type": "execute_result"
    }
   ],
   "source": [
    "(14 / n) * (13 / (n - 1))"
   ]
  },
  {
   "cell_type": "markdown",
   "metadata": {},
   "source": [
    "Following the same pattern, the chance of all cards being cups in a three-card spread is $\\frac{14}{78} \\times \\frac{13}{77} \\times \\frac{12}{76}$:"
   ]
  },
  {
   "cell_type": "code",
   "execution_count": 37,
   "metadata": {},
   "outputs": [
    {
     "data": {
      "text/plain": [
       "0.004784688995215311"
      ]
     },
     "execution_count": 37,
     "metadata": {},
     "output_type": "execute_result"
    }
   ],
   "source": [
    "(14 / n) * (13 / (n-1)) * (12 / (n-2))"
   ]
  },
  {
   "cell_type": "markdown",
   "metadata": {},
   "source": [
    "... or around five spreads out of every thousand you draw. The following cell tests this empirically:"
   ]
  },
  {
   "cell_type": "code",
   "execution_count": 38,
   "metadata": {},
   "outputs": [
    {
     "data": {
      "application/vnd.jupyter.widget-view+json": {
       "model_id": "61f94580cbc4432f9ea3c47754ce82f4",
       "version_major": 2,
       "version_minor": 0
      },
      "text/plain": [
       "HBox(children=(FloatProgress(value=0.0, max=100000.0), HTML(value='')))"
      ]
     },
     "metadata": {},
     "output_type": "display_data"
    },
    {
     "name": "stdout",
     "output_type": "stream",
     "text": [
      "\n",
      "0.00464\n"
     ]
    }
   ],
   "source": [
    "trials = 100000\n",
    "all_cup_count = 0\n",
    "for i in tqdm(range(trials)):\n",
    "    # get just the suit for three random cards\n",
    "    c_suits = [c['suit'] for c in random.sample(cards, 3)]\n",
    "    # if all are cups, up the count\n",
    "    if c_suits == ['cups', 'cups', 'cups']:\n",
    "        all_cup_count += 1\n",
    "print(all_cup_count / trials)"
   ]
  },
  {
   "cell_type": "markdown",
   "metadata": {},
   "source": [
    "if you do a three-card spread every day, you're likely to get (on average) 1.7 all-cups spreads per year:"
   ]
  },
  {
   "cell_type": "code",
   "execution_count": 39,
   "metadata": {},
   "outputs": [
    {
     "data": {
      "text/plain": [
       "1.6936"
      ]
     },
     "execution_count": 39,
     "metadata": {},
     "output_type": "execute_result"
    }
   ],
   "source": [
    "(all_cup_count / trials) * 365"
   ]
  },
  {
   "cell_type": "markdown",
   "metadata": {},
   "source": [
    "Another way to state this problem is this: there are a certain number of different ways that three cards can be drawn from a Tarot deck. In how many of those are all of the cards cups? In this case, we don't care about the *order* of the cards, so we're talking about *combinations* (rather than permutations). The formula for calculating the number of combinations of items of a particular size is:\n",
    "\n",
    "$$\\binom{n}{k} = \\frac{n!}{k! (n-k)!}$$"
   ]
  },
  {
   "cell_type": "markdown",
   "metadata": {},
   "source": [
    "The following cell has an implementation of this function in Python, *ncr()* (short for \"given *n* items, choose *r*):"
   ]
  },
  {
   "cell_type": "code",
   "execution_count": 40,
   "metadata": {},
   "outputs": [],
   "source": [
    "import operator as op\n",
    "from functools import reduce\n",
    "def ncr(n, r):\n",
    "    r = min(r, n-r)\n",
    "    numer = reduce(op.mul, range(n, n-r, -1), 1)\n",
    "    denom = reduce(op.mul, range(1, r+1), 1)\n",
    "    return numer // denom"
   ]
  },
  {
   "cell_type": "markdown",
   "metadata": {},
   "source": [
    "The function tells us how many combinations of two cards there are:"
   ]
  },
  {
   "cell_type": "code",
   "execution_count": 41,
   "metadata": {},
   "outputs": [
    {
     "data": {
      "text/plain": [
       "3003"
      ]
     },
     "execution_count": 41,
     "metadata": {},
     "output_type": "execute_result"
    }
   ],
   "source": [
    "ncr(n, 2)"
   ]
  },
  {
   "cell_type": "markdown",
   "metadata": {},
   "source": [
    "This is, notably, exactly half of the number of permutations:"
   ]
  },
  {
   "cell_type": "code",
   "execution_count": 42,
   "metadata": {},
   "outputs": [
    {
     "data": {
      "text/plain": [
       "6006"
      ]
     },
     "execution_count": 42,
     "metadata": {},
     "output_type": "execute_result"
    }
   ],
   "source": [
    "npr(n, 2)"
   ]
  },
  {
   "cell_type": "markdown",
   "metadata": {},
   "source": [
    "... which makes sense. If you aren't worrying about the order of cards, then half of the two-card permutations will be identical to each other.\n",
    "\n",
    "The number of three-card permutations:"
   ]
  },
  {
   "cell_type": "code",
   "execution_count": 43,
   "metadata": {},
   "outputs": [
    {
     "data": {
      "text/plain": [
       "76076"
      ]
     },
     "execution_count": 43,
     "metadata": {},
     "output_type": "execute_result"
    }
   ],
   "source": [
    "ncr(n, 3)"
   ]
  },
  {
   "cell_type": "markdown",
   "metadata": {},
   "source": [
    "Each suit in Tarot has 14 cards. The `ncr()` function lets us calculate how many combinations of three cards from a group of fourteen there are:"
   ]
  },
  {
   "cell_type": "code",
   "execution_count": 44,
   "metadata": {},
   "outputs": [
    {
     "data": {
      "text/plain": [
       "364"
      ]
     },
     "execution_count": 44,
     "metadata": {},
     "output_type": "execute_result"
    }
   ],
   "source": [
    "ncr(14, 3)"
   ]
  },
  {
   "cell_type": "markdown",
   "metadata": {},
   "source": [
    "Dividing the latter by the former gives us the same number that we calculated above for the probability of getting a spread with three cups:"
   ]
  },
  {
   "cell_type": "code",
   "execution_count": 45,
   "metadata": {},
   "outputs": [
    {
     "data": {
      "text/plain": [
       "0.004784688995215311"
      ]
     },
     "execution_count": 45,
     "metadata": {},
     "output_type": "execute_result"
    }
   ],
   "source": [
    "ncr(14, 3) / ncr(n, 3)"
   ]
  },
  {
   "cell_type": "markdown",
   "metadata": {},
   "source": [
    "The probability of dealing a five-card spread with all major arcana:"
   ]
  },
  {
   "cell_type": "code",
   "execution_count": 46,
   "metadata": {},
   "outputs": [
    {
     "data": {
      "text/plain": [
       "0.0012474012474012475"
      ]
     },
     "execution_count": 46,
     "metadata": {},
     "output_type": "execute_result"
    }
   ],
   "source": [
    "ncr(22, 5) / ncr(n, 5)"
   ]
  },
  {
   "cell_type": "markdown",
   "metadata": {},
   "source": [
    "An empirical trial of same:"
   ]
  },
  {
   "cell_type": "code",
   "execution_count": 47,
   "metadata": {},
   "outputs": [
    {
     "data": {
      "application/vnd.jupyter.widget-view+json": {
       "model_id": "711e93a3142d4e9089a088aad911c137",
       "version_major": 2,
       "version_minor": 0
      },
      "text/plain": [
       "HBox(children=(FloatProgress(value=0.0, max=100000.0), HTML(value='')))"
      ]
     },
     "metadata": {},
     "output_type": "display_data"
    },
    {
     "name": "stdout",
     "output_type": "stream",
     "text": [
      "\n",
      "0.00133\n"
     ]
    }
   ],
   "source": [
    "trials = 100000\n",
    "matches = 0\n",
    "for i in tqdm(range(trials)):\n",
    "    c_suits = [c['suit'] for c in random.sample(cards, 5)]\n",
    "    if c_suits.count('major') == 5:\n",
    "        matches += 1\n",
    "print(matches/trials)"
   ]
  },
  {
   "cell_type": "markdown",
   "metadata": {},
   "source": [
    "### Any card in a spread\n",
    "\n",
    "There are a certain number of three-card spreads:"
   ]
  },
  {
   "cell_type": "code",
   "execution_count": 48,
   "metadata": {},
   "outputs": [
    {
     "data": {
      "text/plain": [
       "76076"
      ]
     },
     "execution_count": 48,
     "metadata": {},
     "output_type": "execute_result"
    }
   ],
   "source": [
    "ncr(n, 3)"
   ]
  },
  {
   "cell_type": "markdown",
   "metadata": {},
   "source": [
    "If the deck had one fewer card, there would be fewer possible spreads:"
   ]
  },
  {
   "cell_type": "code",
   "execution_count": 49,
   "metadata": {},
   "outputs": [
    {
     "data": {
      "text/plain": [
       "73150"
      ]
     },
     "execution_count": 49,
     "metadata": {},
     "output_type": "execute_result"
    }
   ],
   "source": [
    "ncr(n-1, 3)"
   ]
  },
  {
   "cell_type": "markdown",
   "metadata": {},
   "source": [
    "So, the probability of any one card being absent from a three-card spread can be calculated by dividing the latter by the former:"
   ]
  },
  {
   "cell_type": "code",
   "execution_count": 50,
   "metadata": {},
   "outputs": [
    {
     "data": {
      "text/plain": [
       "0.9615384615384616"
      ]
     },
     "execution_count": 50,
     "metadata": {},
     "output_type": "execute_result"
    }
   ],
   "source": [
    "ncr(n-1, 3) / ncr(n, 3)"
   ]
  },
  {
   "cell_type": "markdown",
   "metadata": {},
   "source": [
    "This means that there is a 96% chance that any card you're thinking of will *not* show up in a spread. Subtract this from one to get the probability that the opposite occurs, i.e., the probability that any given card *will* show up in a three-card spread:"
   ]
  },
  {
   "cell_type": "code",
   "execution_count": 51,
   "metadata": {},
   "outputs": [
    {
     "data": {
      "text/plain": [
       "0.038461538461538436"
      ]
     },
     "execution_count": 51,
     "metadata": {},
     "output_type": "execute_result"
    }
   ],
   "source": [
    "1 - (ncr(n-1, 3) / ncr(n, 3))"
   ]
  },
  {
   "cell_type": "markdown",
   "metadata": {},
   "source": [
    "Let's run a simulation to make sure this is the case. In the following cell, we deal three cards and then check to see if any of them are The Star:"
   ]
  },
  {
   "cell_type": "code",
   "execution_count": 52,
   "metadata": {},
   "outputs": [
    {
     "data": {
      "application/vnd.jupyter.widget-view+json": {
       "model_id": "4e684f2d8d4548ceb80d3b5f4381baa1",
       "version_major": 2,
       "version_minor": 0
      },
      "text/plain": [
       "HBox(children=(FloatProgress(value=0.0, max=100000.0), HTML(value='')))"
      ]
     },
     "metadata": {},
     "output_type": "display_data"
    },
    {
     "name": "stdout",
     "output_type": "stream",
     "text": [
      "\n",
      "0.03918\n"
     ]
    }
   ],
   "source": [
    "trials = 100000\n",
    "star_count = 0\n",
    "for i in tqdm(range(trials)):\n",
    "    c_names = [c['name'] for c in random.sample(cards, 3)]\n",
    "    if 'The Star' in c_names:\n",
    "        star_count += 1\n",
    "print(star_count / trials)"
   ]
  },
  {
   "cell_type": "markdown",
   "metadata": {},
   "source": [
    "Looks about right! The function below wraps up this expression to make it easy to calculate the chance that a given card will be in a spread of a particular size:"
   ]
  },
  {
   "cell_type": "code",
   "execution_count": 53,
   "metadata": {},
   "outputs": [],
   "source": [
    "def chance_in_spread(n, r):\n",
    "    return 1 - (ncr(n-1, r) / ncr(n, r))"
   ]
  },
  {
   "cell_type": "markdown",
   "metadata": {},
   "source": [
    "Note that as the size of the spread goes up, so do the chances of any given card showing up in the spread:"
   ]
  },
  {
   "cell_type": "code",
   "execution_count": 54,
   "metadata": {},
   "outputs": [
    {
     "data": {
      "text/plain": [
       "0.1282051282051282"
      ]
     },
     "execution_count": 54,
     "metadata": {},
     "output_type": "execute_result"
    }
   ],
   "source": [
    "chance_in_spread(n, 10)"
   ]
  },
  {
   "cell_type": "markdown",
   "metadata": {},
   "source": [
    "Notably, this means that while there is a relatively low chance for the same card to occur in two subsequent three-card spreads:"
   ]
  },
  {
   "cell_type": "code",
   "execution_count": 55,
   "metadata": {
    "scrolled": true
   },
   "outputs": [
    {
     "data": {
      "text/plain": [
       "0.0014792899408284004"
      ]
     },
     "execution_count": 55,
     "metadata": {},
     "output_type": "execute_result"
    }
   ],
   "source": [
    "chance_in_spread(n, 3) * chance_in_spread(n, 3)"
   ]
  },
  {
   "cell_type": "markdown",
   "metadata": {},
   "source": [
    "There's a nearly 2% chance that the same card will show up in two 10-card spreads in a row."
   ]
  },
  {
   "cell_type": "code",
   "execution_count": 57,
   "metadata": {},
   "outputs": [
    {
     "data": {
      "text/plain": [
       "0.016436554898093356"
      ]
     },
     "execution_count": 57,
     "metadata": {},
     "output_type": "execute_result"
    }
   ],
   "source": [
    "chance_in_spread(n, 10) * chance_in_spread(n, 10)"
   ]
  },
  {
   "cell_type": "markdown",
   "metadata": {},
   "source": [
    "Empirical test of same:"
   ]
  },
  {
   "cell_type": "code",
   "execution_count": 58,
   "metadata": {},
   "outputs": [
    {
     "data": {
      "application/vnd.jupyter.widget-view+json": {
       "model_id": "debb7931cef04c0a814b4fb858e72fc7",
       "version_major": 2,
       "version_minor": 0
      },
      "text/plain": [
       "HBox(children=(FloatProgress(value=0.0, max=100000.0), HTML(value='')))"
      ]
     },
     "metadata": {},
     "output_type": "display_data"
    },
    {
     "name": "stdout",
     "output_type": "stream",
     "text": [
      "\n",
      "0.01677\n"
     ]
    }
   ],
   "source": [
    "trials = 100000\n",
    "star_count = 0\n",
    "for i in tqdm(range(trials)):\n",
    "    c_names1 = [c['name'] for c in random.sample(cards, 10)]\n",
    "    c_names2 = [c['name'] for c in random.sample(cards, 10)]\n",
    "    if 'The Tower' in c_names1 and 'The Tower' in c_names2:\n",
    "        star_count += 1\n",
    "print(star_count/trials)"
   ]
  },
  {
   "cell_type": "markdown",
   "metadata": {},
   "source": [
    "## Random distributions\n",
    "\n",
    "Often when we think of random numbers, we think of rolling a die. Each side has the same probability of coming up. If you rolled a six-sided die a million times, for example, you'd expect the each side to come up roughly the same number of times ($\\frac{1000000}{6}$, or about 166667). The following cell performs this experiment, then counts up which sides of the die came up most frequently:"
   ]
  },
  {
   "cell_type": "code",
   "execution_count": 59,
   "metadata": {},
   "outputs": [
    {
     "data": {
      "text/plain": [
       "[(5, 166937), (3, 166833), (4, 166828), (2, 166534), (6, 166531), (1, 166337)]"
      ]
     },
     "execution_count": 59,
     "metadata": {},
     "output_type": "execute_result"
    }
   ],
   "source": [
    "from collections import Counter\n",
    "rolls = [random.randrange(6)+1 for i in range(1000000)]\n",
    "Counter(rolls).most_common()"
   ]
  },
  {
   "cell_type": "markdown",
   "metadata": {},
   "source": [
    "As you can see, even with a million rolls, the numbers don't quite match our estimate, but they're pretty close.\n",
    "\n",
    "It turns out that this is just one kind of randomness. Other phenomena in the world also produce random outcomes, but they don't always look like the outcomes of rolling dice.\n",
    "\n",
    "The following cell has some code to help display graphs, which I'm going to do fairly frequently in the rest of the notebook."
   ]
  },
  {
   "cell_type": "code",
   "execution_count": 60,
   "metadata": {},
   "outputs": [],
   "source": [
    "%matplotlib inline\n",
    "import numpy as np\n",
    "import matplotlib.pyplot as plt\n",
    "plt.style.use('ggplot')\n",
    "plt.rcParams[\"figure.figsize\"] = (10, 4)"
   ]
  },
  {
   "cell_type": "markdown",
   "metadata": {},
   "source": [
    "### Uniform random numbers\n",
    "\n",
    "The kind of randomness produced by rolling dice is called *uniform randomness*. It's called uniform because no outcome is more likely than any other. The following function produces ten uniformly distributed random numbers between 0 and 1:"
   ]
  },
  {
   "cell_type": "code",
   "execution_count": 61,
   "metadata": {
    "scrolled": true
   },
   "outputs": [
    {
     "data": {
      "text/plain": [
       "array([0.80959912, 0.38372388, 0.24769758, 0.17516367, 0.96174321,\n",
       "       0.46559622, 0.76599657, 0.09233533, 0.19830138, 0.54953235])"
      ]
     },
     "execution_count": 61,
     "metadata": {},
     "output_type": "execute_result"
    }
   ],
   "source": [
    "np.random.uniform(size=(10,))"
   ]
  },
  {
   "cell_type": "markdown",
   "metadata": {},
   "source": [
    "As you select more and more uniformly distributed numbers, the distribution of those numbers tends to flatten out. The following cell shows a series of [histograms](https://en.wikipedia.org/wiki/Histogram) with more and more uniform random numbers being generated:"
   ]
  },
  {
   "cell_type": "code",
   "execution_count": 63,
   "metadata": {},
   "outputs": [
    {
     "data": {
      "image/png": "[encoded data removed]",
      "text/plain": [
       "<Figure size 432x144 with 1 Axes>"
      ]
     },
     "metadata": {
      "needs_background": "light"
     },
     "output_type": "display_data"
    },
    {
     "data": {
      "image/png": "[encoded data removed]",
      "text/plain": [
       "<Figure size 432x144 with 1 Axes>"
      ]
     },
     "metadata": {
      "needs_background": "light"
     },
     "output_type": "display_data"
    },
    {
     "data": {
      "image/png": "[encoded data removed]",
      "text/plain": [
       "<Figure size 432x144 with 1 Axes>"
      ]
     },
     "metadata": {
      "needs_background": "light"
     },
     "output_type": "display_data"
    },
    {
     "data": {
      "image/png": "[encoded data removed]",
      "text/plain": [
       "<Figure size 432x144 with 1 Axes>"
      ]
     },
     "metadata": {
      "needs_background": "light"
     },
     "output_type": "display_data"
    },
    {
     "data": {
      "image/png": "[encoded data removed]",
      "text/plain": [
       "<Figure size 432x144 with 1 Axes>"
      ]
     },
     "metadata": {
      "needs_background": "light"
     },
     "output_type": "display_data"
    },
    {
     "data": {
      "image/png": "[encoded data removed]",
      "text/plain": [
       "<Figure size 432x144 with 1 Axes>"
      ]
     },
     "metadata": {
      "needs_background": "light"
     },
     "output_type": "display_data"
    }
   ],
   "source": [
    "for i in range(1, 7):\n",
    "    plt.figure(figsize=(6,2))\n",
    "    plt.title(\"with 10^%d samples\" % i)\n",
    "    plt.hist(np.random.uniform(size=(10**i,)), bins=20)\n",
    "    plt.show()"
   ]
  },
  {
   "cell_type": "markdown",
   "metadata": {},
   "source": [
    "By the time we've generated $10^6$ samples, the histogram looks flat.\n",
    "\n",
    "Notably, the *sum* of two dice does *not* follow a uniform distribution. The code in the following cell rolls two dice one thousand times, then counts up the most common numbers that the values of the dice add up to: "
   ]
  },
  {
   "cell_type": "code",
   "execution_count": 64,
   "metadata": {},
   "outputs": [
    {
     "data": {
      "text/plain": [
       "[(7, 1632),\n",
       " (8, 1406),\n",
       " (6, 1390),\n",
       " (5, 1140),\n",
       " (9, 1068),\n",
       " (10, 874),\n",
       " (4, 871),\n",
       " (3, 561),\n",
       " (11, 487),\n",
       " (12, 290),\n",
       " (2, 281)]"
      ]
     },
     "execution_count": 64,
     "metadata": {},
     "output_type": "execute_result"
    }
   ],
   "source": [
    "rolls = [sum([random.randrange(6)+1 for j in range(2)]) for i in range(10000)]\n",
    "Counter(rolls).most_common()"
   ]
  },
  {
   "cell_type": "markdown",
   "metadata": {},
   "source": [
    "As you can see, 6, 7 and 8 are more likely than the other numbers. The following cell uses histograms to show the distribution of the sums of two uniformly distributed random numbers, drawing progressively more samples:"
   ]
  },
  {
   "cell_type": "code",
   "execution_count": 65,
   "metadata": {},
   "outputs": [
    {
     "data": {
      "image/png": "[encoded data removed]",
      "text/plain": [
       "<Figure size 432x144 with 1 Axes>"
      ]
     },
     "metadata": {
      "needs_background": "light"
     },
     "output_type": "display_data"
    },
    {
     "data": {
      "image/png": "[encoded data removed]",
      "text/plain": [
       "<Figure size 432x144 with 1 Axes>"
      ]
     },
     "metadata": {
      "needs_background": "light"
     },
     "output_type": "display_data"
    },
    {
     "data": {
      "image/png": "[encoded data removed]",
      "text/plain": [
       "<Figure size 432x144 with 1 Axes>"
      ]
     },
     "metadata": {
      "needs_background": "light"
     },
     "output_type": "display_data"
    },
    {
     "data": {
      "image/png": "[encoded data removed]",
      "text/plain": [
       "<Figure size 432x144 with 1 Axes>"
      ]
     },
     "metadata": {
      "needs_background": "light"
     },
     "output_type": "display_data"
    },
    {
     "data": {
      "image/png": "[encoded data removed]",
      "text/plain": [
       "<Figure size 432x144 with 1 Axes>"
      ]
     },
     "metadata": {
      "needs_background": "light"
     },
     "output_type": "display_data"
    }
   ],
   "source": [
    "for i in range(1, 6):\n",
    "    plt.figure(figsize=(6,2))\n",
    "    plt.title(\"with 10^%d samples\" % i)\n",
    "    plt.hist(np.random.uniform(size=(10**i,)) + np.random.uniform(size=10**i,),\n",
    "            bins=20)\n",
    "    plt.show()"
   ]
  },
  {
   "cell_type": "markdown",
   "metadata": {},
   "source": [
    "This distribution begins to resemble a pyramid, with the most likely values in the center of the range. This should be intuitive to anyone who has played a board game that uses the combined values of two dice as a gameplay mechanic. In games like this, you'll often find that dice rolls of 2 or 12 have special rules attached to them (because they're so rare).\n",
    "\n",
    "### Normal distribution\n",
    "\n",
    "We don't have to stop at summing the rolls of two dice. The code in the following cell sums up the values of an arbitrary number of dice with an arbitrary number of sides, and then calculates the most common outcomes for the given number of trials:"
   ]
  },
  {
   "cell_type": "code",
   "execution_count": 66,
   "metadata": {},
   "outputs": [],
   "source": [
    "def get_rolls(sides, dice, trials):\n",
    "    rolls = [sum([random.randrange(sides)+1 for j in range(dice)]) for i in range(trials)]\n",
    "    return Counter(rolls).most_common()"
   ]
  },
  {
   "cell_type": "markdown",
   "metadata": {},
   "source": [
    "So, for example, the most common sums of three six-sided dice over a few thousand rolls:"
   ]
  },
  {
   "cell_type": "code",
   "execution_count": 67,
   "metadata": {},
   "outputs": [
    {
     "data": {
      "text/plain": [
       "[(10, 1245),\n",
       " (11, 1243),\n",
       " (12, 1172),\n",
       " (9, 1160),\n",
       " (13, 996),\n",
       " (8, 974),\n",
       " (14, 684),\n",
       " (7, 683),\n",
       " (6, 453),\n",
       " (15, 434),\n",
       " (16, 296),\n",
       " (5, 275),\n",
       " (4, 138),\n",
       " (17, 135),\n",
       " (18, 67),\n",
       " (3, 45)]"
      ]
     },
     "execution_count": 67,
     "metadata": {},
     "output_type": "execute_result"
    }
   ],
   "source": [
    "get_rolls(6, 3, 10000)"
   ]
  },
  {
   "cell_type": "markdown",
   "metadata": {},
   "source": [
    "Again, you'll see clustering around values that are halfway between zero and the maximum sum of the dice. The cell below defines a function that plots these values onto a histogram:"
   ]
  },
  {
   "cell_type": "code",
   "execution_count": 68,
   "metadata": {},
   "outputs": [],
   "source": [
    "def plot_int_counts(counts):\n",
    "    nums = np.zeros(shape=(max([item[0] for item in counts])+1,))\n",
    "    for k,v in counts:\n",
    "        nums[k] = v\n",
    "    plt.bar(range(nums.shape[0]), nums)\n",
    "    plt.show()"
   ]
  },
  {
   "cell_type": "markdown",
   "metadata": {},
   "source": [
    "When you plot this histogram, you'll notice that the shape is no longer like a pyramid—instead it seems to have a bit of a curve at the top:"
   ]
  },
  {
   "cell_type": "code",
   "execution_count": 69,
   "metadata": {
    "scrolled": true
   },
   "outputs": [
    {
     "data": {
      "image/png": "[encoded data removed]",
      "text/plain": [
       "<Figure size 432x288 with 1 Axes>"
      ]
     },
     "metadata": {
      "needs_background": "light"
     },
     "output_type": "display_data"
    }
   ],
   "source": [
    "plot_int_counts(get_rolls(6, 3, 100000))"
   ]
  },
  {
   "cell_type": "markdown",
   "metadata": {},
   "source": [
    "Plotting with even more dice gives us an even curvier curve:"
   ]
  },
  {
   "cell_type": "code",
   "execution_count": 70,
   "metadata": {},
   "outputs": [
    {
     "data": {
      "image/png": "[encoded data removed]",
      "text/plain": [
       "<Figure size 432x288 with 1 Axes>"
      ]
     },
     "metadata": {
      "needs_background": "light"
     },
     "output_type": "display_data"
    }
   ],
   "source": [
    "plot_int_counts(get_rolls(6, 6, 100000))"
   ]
  },
  {
   "cell_type": "markdown",
   "metadata": {},
   "source": [
    "The sums of uniform random numbers approximate another distribution of random numbers, called *normal* (or Gaussian) distribution. Random numbers with a normal distribution cluster around a particular value (the *center* of the distribution), and that cluster has a particular density (the *variance* of the distribution).\n",
    "\n",
    "There's a function in Python to generate normal random numbers:"
   ]
  },
  {
   "cell_type": "code",
   "execution_count": 71,
   "metadata": {},
   "outputs": [
    {
     "data": {
      "text/plain": [
       "array([-7.03719486e-01,  1.39347461e+00, -1.26143104e-01,  3.70384056e-01,\n",
       "        1.09026272e+00,  1.47959873e-01,  5.16520702e-01, -8.75107472e-01,\n",
       "        8.03322998e-02, -8.44208525e-01,  4.90862107e-01, -5.11388946e-01,\n",
       "        2.78629045e-01, -5.23632508e-01,  1.99569565e-03,  1.45798574e+00,\n",
       "       -1.65684094e+00,  8.55570749e-01, -6.13381022e-01, -9.53401332e-02,\n",
       "        9.96937665e-01,  2.08361804e+00,  8.77619973e-01,  3.05505836e-01])"
      ]
     },
     "execution_count": 71,
     "metadata": {},
     "output_type": "execute_result"
    }
   ],
   "source": [
    "np.random.normal(0, 1, size=24)"
   ]
  },
  {
   "cell_type": "markdown",
   "metadata": {},
   "source": [
    "The first parameter is the center and the second is the variance. You can switch these up:"
   ]
  },
  {
   "cell_type": "code",
   "execution_count": 72,
   "metadata": {},
   "outputs": [
    {
     "data": {
      "text/plain": [
       "array([ 6.88660325,  4.68496737,  5.55270995, 18.851693  , 18.38041328,\n",
       "        2.39389233, 11.68465526,  0.98454816,  3.97634027,  0.39761589,\n",
       "        5.04222476,  9.18881071, 11.66353467,  9.7790319 , 12.72331521,\n",
       "        3.23051402, -0.75138677,  1.46676276,  9.21546184, 14.95504318,\n",
       "       12.95271009,  7.15533676,  8.75825494,  6.17434599])"
      ]
     },
     "execution_count": 72,
     "metadata": {},
     "output_type": "execute_result"
    }
   ],
   "source": [
    "np.random.normal(6, 6, size=24)"
   ]
  },
  {
   "cell_type": "markdown",
   "metadata": {},
   "source": [
    "### Graphing different kinds of random"
   ]
  },
  {
   "cell_type": "code",
   "execution_count": 73,
   "metadata": {},
   "outputs": [
    {
     "data": {
      "image/png": "[encoded data removed]",
      "text/plain": [
       "<Figure size 360x360 with 1 Axes>"
      ]
     },
     "metadata": {
      "needs_background": "light"
     },
     "output_type": "display_data"
    }
   ],
   "source": [
    "num_points = 10000\n",
    "plt.figure(figsize=(5,5))\n",
    "plt.scatter(np.random.uniform(size=(num_points,)), np.random.uniform(size=(num_points,)))\n",
    "plt.show()"
   ]
  },
  {
   "cell_type": "code",
   "execution_count": 74,
   "metadata": {},
   "outputs": [
    {
     "data": {
      "image/png": "[encoded data removed]",
      "text/plain": [
       "<Figure size 360x360 with 1 Axes>"
      ]
     },
     "metadata": {
      "needs_background": "light"
     },
     "output_type": "display_data"
    }
   ],
   "source": [
    "num_points = 10000\n",
    "plt.figure(figsize=(5,5))\n",
    "plt.scatter(np.random.normal(size=(num_points,)), np.random.normal(size=(num_points,)))\n",
    "plt.show()"
   ]
  },
  {
   "cell_type": "markdown",
   "metadata": {},
   "source": [
    "### Normal and uniform data"
   ]
  },
  {
   "cell_type": "code",
   "execution_count": 75,
   "metadata": {},
   "outputs": [],
   "source": [
    "name_data = json.load(open(\"firstNames.json\"))['firstNames']"
   ]
  },
  {
   "cell_type": "code",
   "execution_count": 76,
   "metadata": {},
   "outputs": [],
   "source": [
    "name_lengths = [len(name) for name in name_data]"
   ]
  },
  {
   "cell_type": "code",
   "execution_count": 77,
   "metadata": {
    "scrolled": true
   },
   "outputs": [
    {
     "data": {
      "image/png": "[encoded data removed]",
      "text/plain": [
       "<Figure size 432x288 with 1 Axes>"
      ]
     },
     "metadata": {
      "needs_background": "light"
     },
     "output_type": "display_data"
    }
   ],
   "source": [
    "plot_int_counts(Counter(name_lengths).most_common())"
   ]
  },
  {
   "cell_type": "code",
   "execution_count": 78,
   "metadata": {},
   "outputs": [],
   "source": [
    "words = open(\"frankenstein.txt\").read().split()"
   ]
  },
  {
   "cell_type": "code",
   "execution_count": 79,
   "metadata": {},
   "outputs": [],
   "source": [
    "word_lengths = [len(word) for word in words]"
   ]
  },
  {
   "cell_type": "code",
   "execution_count": 80,
   "metadata": {
    "scrolled": true
   },
   "outputs": [
    {
     "data": {
      "image/png": "[encoded data removed]",
      "text/plain": [
       "<Figure size 432x288 with 1 Axes>"
      ]
     },
     "metadata": {
      "needs_background": "light"
     },
     "output_type": "display_data"
    }
   ],
   "source": [
    "plot_int_counts(Counter(word_lengths).most_common())"
   ]
  },
  {
   "cell_type": "code",
   "execution_count": 81,
   "metadata": {},
   "outputs": [],
   "source": [
    "word_counts = Counter(words)"
   ]
  },
  {
   "cell_type": "code",
   "execution_count": 82,
   "metadata": {},
   "outputs": [],
   "source": [
    "word_counts_indexed = [(i, count) for i, (word, count) in enumerate(word_counts.most_common(250))]"
   ]
  },
  {
   "cell_type": "markdown",
   "metadata": {},
   "source": [
    "### Power law distribution"
   ]
  },
  {
   "cell_type": "code",
   "execution_count": 83,
   "metadata": {},
   "outputs": [
    {
     "data": {
      "image/png": "[encoded data removed]",
      "text/plain": [
       "<Figure size 432x288 with 1 Axes>"
      ]
     },
     "metadata": {
      "needs_background": "light"
     },
     "output_type": "display_data"
    }
   ],
   "source": [
    "plot_int_counts(word_counts_indexed)"
   ]
  },
  {
   "cell_type": "markdown",
   "metadata": {},
   "source": [
    "class activities: length of names, last digit of dob"
   ]
  },
  {
   "cell_type": "code",
   "execution_count": 84,
   "metadata": {},
   "outputs": [
    {
     "data": {
      "text/plain": [
       "14"
      ]
     },
     "execution_count": 84,
     "metadata": {},
     "output_type": "execute_result"
    }
   ],
   "source": [
    "len(\"AllisonParrish\")"
   ]
  },
  {
   "cell_type": "code",
   "execution_count": 85,
   "metadata": {},
   "outputs": [],
   "source": [
    "name_lengths = [\n",
    "    14,\n",
    "    14,\n",
    "    20,\n",
    "    12,\n",
    "    12,\n",
    "    11,\n",
    "    15,\n",
    "    12,\n",
    "    14,\n",
    "    10,\n",
    "    7,\n",
    "    11,\n",
    "    14,\n",
    "    10,\n",
    "    7\n",
    "]"
   ]
  },
  {
   "cell_type": "code",
   "execution_count": 86,
   "metadata": {},
   "outputs": [
    {
     "data": {
      "image/png": "[encoded data removed]",
      "text/plain": [
       "<Figure size 432x288 with 1 Axes>"
      ]
     },
     "metadata": {
      "needs_background": "light"
     },
     "output_type": "display_data"
    }
   ],
   "source": [
    "plot_int_counts(Counter(name_lengths).most_common())"
   ]
  },
  {
   "cell_type": "code",
   "execution_count": 87,
   "metadata": {},
   "outputs": [],
   "source": [
    "digits = [\n",
    "    8, 1, 8, 7, 3, 8, 4, 9, 4, 5, 0, 7, 4, 8, 8\n",
    "]"
   ]
  },
  {
   "cell_type": "code",
   "execution_count": 88,
   "metadata": {},
   "outputs": [
    {
     "data": {
      "image/png": "[encoded data removed]",
      "text/plain": [
       "<Figure size 432x288 with 1 Axes>"
      ]
     },
     "metadata": {
      "needs_background": "light"
     },
     "output_type": "display_data"
    }
   ],
   "source": [
    "plot_int_counts(Counter(digits).most_common())"
   ]
  },
  {
   "cell_type": "markdown",
   "metadata": {},
   "source": [
    "## Hot hand"
   ]
  },
  {
   "cell_type": "markdown",
   "metadata": {},
   "source": [
    "From Gilovich, Thomas, et al. [“The Hot Hand in Basketball: On the Misperception of Random Sequences.”](https://www.sciencedirect.com/science/article/pii/0010028585900106) Cognitive Psychology, vol. 17, no. 3, 1985, pp. 311:\n",
    "\n",
    "> [T]he tendency to perceive a sequence as streak shooting decreases with the probability of alternation. [...] The sequences selected as best examples of chance shooting had probabilities of alternation of 0.7 and 0.8 rather\n",
    "than 0.5. Furthermore, the sequence with the probability of alternation of 0.5 (the proper example of chance shooting) was classified as chance shooting only by 32% of subjects, whereas 62% identified it as an example of streak shooting.\n",
    "\n",
    "> Evidently, **people tend to perceive chance shooting as streak shooting,** and they expect sequences exemplifying chance shooting to contain many more alternations than would actually be produced by a random (chance) process. Thus, people \"see\" a positive serial correlation in independent sequences, and they fail to detect a negative serial correlation in alternating sequences. Hence, people not only perceive random sequences as positively correlated, they also perceive negatively correlated sequences as random.\n",
    "\n",
    "[Interactive demo here](https://alpha.editor.p5js.org/allison.parrish/sketches/B1eFfCqal)"
   ]
  }
 ],
 "metadata": {
  "kernelspec": {
   "display_name": "Python 3",
   "language": "python",
   "name": "python3"
  },
  "language_info": {
   "codemirror_mode": {
    "name": "ipython",
    "version": 3
   },
   "file_extension": ".py",
   "mimetype": "text/x-python",
   "name": "python",
   "nbconvert_exporter": "python",
   "pygments_lexer": "ipython3",
   "version": "3.6.8"
  }
 },
 "nbformat": 4,
 "nbformat_minor": 2
}
